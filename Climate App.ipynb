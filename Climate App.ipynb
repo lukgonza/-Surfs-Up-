{
 "cells": [
  {
   "cell_type": "code",
   "execution_count": 148,
   "metadata": {},
   "outputs": [],
   "source": [
    "# Import Dependencies\n",
    "from datetime import datetime\n",
    "import numpy as np\n",
    "import pandas as pd"
   ]
  },
  {
   "cell_type": "code",
   "execution_count": 149,
   "metadata": {},
   "outputs": [],
   "source": [
    "import sqlalchemy\n",
    "from sqlalchemy.ext.automap import automap_base\n",
    "from sqlalchemy.orm import Session\n",
    "from sqlalchemy import create_engine, func"
   ]
  },
  {
   "cell_type": "code",
   "execution_count": 150,
   "metadata": {},
   "outputs": [],
   "source": [
    "from flask import Flask, jsonify"
   ]
  },
  {
   "cell_type": "code",
   "execution_count": 151,
   "metadata": {},
   "outputs": [],
   "source": [
    "# Database creation\n",
    "engine = create_engine(\"sqlite:///hawaii.sqlite\")"
   ]
  },
  {
   "cell_type": "code",
   "execution_count": 152,
   "metadata": {},
   "outputs": [],
   "source": [
    "# Reflect an existing db into a new model\n",
    "Base = automap_base()\n",
    "Base.prepare(engine, reflect=True)"
   ]
  },
  {
   "cell_type": "code",
   "execution_count": 156,
   "metadata": {},
   "outputs": [],
   "source": [
    "# Create session (link) from Python to the db\n",
    "session = Session(engine)"
   ]
  },
  {
   "cell_type": "code",
   "execution_count": 157,
   "metadata": {},
   "outputs": [],
   "source": [
    "# Flask Setup\n",
    "app = Flask(__name__)"
   ]
  },
  {
   "cell_type": "code",
   "execution_count": null,
   "metadata": {},
   "outputs": [],
   "source": [
    "# Save reference to the table\n",
    "Measurement = Base.classes.measurement\n",
    "# Reflect the tables\n",
    "Station = Base.classes.station"
   ]
  },
  {
   "cell_type": "code",
   "execution_count": 158,
   "metadata": {},
   "outputs": [],
   "source": [
    "def home():\n",
    "    print(\"Server received request from 'Home' page.\")\n",
    "    return \"Welcome to the Surfs Up Weather API!\""
   ]
  },
  {
   "cell_type": "code",
   "execution_count": 159,
   "metadata": {},
   "outputs": [],
   "source": [
    "#List all available routes\n",
    "def welcome ():\n",
    "    return (\n",
    "        f\"Welcome to the Surf Up API<br>\"\n",
    "        f\"Available Routes:<br>\"\n",
    "        f\"/api/v1.0/precipitation<br>\"\n",
    "        f\"/api/v1.0/stations<br>\"\n",
    "        f\"/api/v1.0/tobs<br>\"\n",
    "        f\"/api/v1.0/<start><br>\"\n",
    "        f\"/api/v1.0<start>/<end><br>\"\n",
    " )"
   ]
  },
  {
   "cell_type": "code",
   "execution_count": 160,
   "metadata": {},
   "outputs": [],
   "source": [
    "def precipitation():\n",
    "    #Query for the dates and temperature observations from the last year.\n",
    "    results = session.query(Measurements.date,Measurements.prcp).filter(Measurements.date >= \"08-23-2017\").all()\n",
    "\n",
    "    year_prcp = list(np.ravel(results))\n",
    "    #results.___dict___\n",
    "    #Create a dictionary using 'date' as the key and 'prcp' as the value.\n",
    "    \"\"\"year_prcp = []\n",
    "    for result in results:\n",
    "    row = {}\n",
    "    row[Measurements.date] = row[Measurements.prcp]\n",
    "    year_prcp.append(row)\"\"\"\n",
    "    \n",
    "    return jsonify(year_prcp)"
   ]
  },
  {
   "cell_type": "code",
   "execution_count": 161,
   "metadata": {},
   "outputs": [],
   "source": [
    "def stations():\n",
    "    # return a json list of stations from the dataset.\n",
    "    results = session.query (Stations.station).all()\n",
    "    \n",
    "    all_stations = list(np.ravel(results))\n",
    "    \n",
    "    return jsonify(all_stations)\n",
    "            "
   ]
  },
  {
   "cell_type": "code",
   "execution_count": 162,
   "metadata": {},
   "outputs": [],
   "source": [
    "def temperature():\n",
    "                #Return a json list of Temperature Observations (tobs) for the previous year\n",
    "                year_tobs = []\n",
    "                results = session.query(Measurements.tobs).filter(Measurements.date >= \"08-23-2017\").all()\n",
    "\n",
    "                year_tobs = list(np.ravel(results))\n",
    "\n",
    "                return jsonify(year_tobs)"
   ]
  },
  {
   "cell_type": "code",
   "execution_count": 163,
   "metadata": {},
   "outputs": [],
   "source": [
    "def temperature( ):\n",
    "         # Return a json list of Temperature Observations (tobs) for the previous year\n",
    "        year_tobs = [ ]\n",
    "        results = session.query(Measurements.tobs).filter(Measurements.date >= \"08-23-2017\").all()\n",
    "\n",
    "                                                         \n",
    "        year_tobs = list(np.ravel(results))\n",
    "                                                          \n",
    "        return jsonify(all_stations)"
   ]
  },
  {
   "cell_type": "code",
   "execution_count": 164,
   "metadata": {},
   "outputs": [],
   "source": [
    "def temperature():\n",
    "    #Return a json list of Temperature Observations (tobs) for the previous year\n",
    "    year_tobs = []\n",
    "    results = session.query(Measurements.tobs).filter(Measurements.date >= \"08-23-2017\").all()\n",
    "\n",
    "    year_tobs = list(np.ravel(results))\n",
    "\n",
    "    return jsonify(year_tobs)"
   ]
  },
  {
   "cell_type": "code",
   "execution_count": 165,
   "metadata": {},
   "outputs": [],
   "source": [
    "def start_trip_temp(start_date):\n",
    "    start_trip = []\n",
    "\n",
    "    results_min = session.query(func.min(Measurements.tobs)).filter(Measurements.date == start_date).all()\n",
    "    results_max = session.query(func.max(Measurements.tobs)).filter(Measurements.date == start_date).all()\n",
    "    results_avg = session.query(func.avg(Measurements.tobs)).filter(Measurements.date == start_date).all()\n",
    "\n",
    "    start_trip = list(np.ravel(results_min,results_max, results_avg))\n",
    "\n",
    "    return jsonify(start_trip)"
   ]
  },
  {
   "cell_type": "code",
   "execution_count": 166,
   "metadata": {},
   "outputs": [],
   "source": [
    "def greater_start_date(start_date):\n",
    "\n",
    "    start_trip_date_temps = []\n",
    "\n",
    "    results_min = session.query(func.min(Measurements.tobs)).filter(Measurements.date >= start_date).all()\n",
    "    results_max = session.query(func.max(Measurements.tobs)).filter(Measurements.date >= start_date).all()\n",
    "    results_avg = session.query(func.avg(Measurements.tobs)).filter(Measurements.date >= start_date).all()\n",
    "\n",
    "    start_trip_date_temps = list(np.ravel(results_min,results_max, results_avg))\n",
    "\n",
    "    return jsonify(start_trip_date_temps)"
   ]
  },
  {
   "cell_type": "code",
   "execution_count": 167,
   "metadata": {},
   "outputs": [],
   "source": [
    "def start_end_trip(start_date, end_date):\n",
    "\n",
    "    start_end_trip_temps = []\n",
    "\n",
    "    results_min = session.query(func.min(Measurements.tobs)).filter(Measurements.date == start_date, Measurements.date == end_date).all()\n",
    "    results_max = session.query(func.max(Measurements.tobs)).filter(Measurements.date == start_date, Measurements.date == end_date).all()\n",
    "    results_avg = session.query(func.avg(Measurements.tobs)).filter(Measurements.date == start_date, Measurements.date == end_date).all()\n",
    "\n",
    "    start_end_trip_temps = list(np.ravel(results_min,results_max, results_avg))\n",
    "\n",
    "    return jsonify(start_end_trip_temps)"
   ]
  },
  {
   "cell_type": "code",
   "execution_count": 132,
   "metadata": {},
   "outputs": [
    {
     "name": "stdout",
     "output_type": "stream",
     "text": [
      " * Serving Flask app \"__main__\" (lazy loading)\n",
      " * Environment: production\n",
      "   WARNING: Do not use the development server in a production environment.\n",
      "   Use a production WSGI server instead.\n",
      " * Debug mode: on\n"
     ]
    },
    {
     "name": "stderr",
     "output_type": "stream",
     "text": [
      " * Restarting with stat\n"
     ]
    },
    {
     "ename": "SystemExit",
     "evalue": "1",
     "output_type": "error",
     "traceback": [
      "An exception has occurred, use %tb to see the full traceback.\n",
      "\u001b[1;31mSystemExit\u001b[0m\u001b[1;31m:\u001b[0m 1\n"
     ]
    },
    {
     "name": "stderr",
     "output_type": "stream",
     "text": [
      "C:\\Users\\lukgo\\Anaconda3\\lib\\site-packages\\IPython\\core\\interactiveshell.py:2969: UserWarning: To exit: use 'exit', 'quit', or Ctrl-D.\n",
      "  warn(\"To exit: use 'exit', 'quit', or Ctrl-D.\", stacklevel=1)\n"
     ]
    }
   ],
   "source": [
    "def start_end_trip(start_date, end_date):\n",
    "\n",
    "\tround_trip_temps = []\n",
    "\n",
    "\tresults_min = session.query(func.min(Measurements.tobs)).filter(Measurements.date >= start_date, Measurements.date >= end_date).all()\n",
    "\tresults_max = session.query(func.max(Measurements.tobs)).filter(Measurements.date >= start_date, Measurements.date >= end_date).all()\n",
    "\tresults_avg = session.query(func.avg(Measurements.tobs)).filter(Measurements.date >= start_date, Measurements.date >= end_date).all()\n",
    "\n",
    "\tround_trip_temps = list(np.ravel(results_min,results_max, results_avg))\n",
    "\n",
    "\treturn jsonify(round_trip_temps)\n",
    "\n",
    "\n",
    "if __name__ == '__main__':\n",
    "    app.run(debug=True)"
   ]
  },
  {
   "cell_type": "code",
   "execution_count": null,
   "metadata": {},
   "outputs": [],
   "source": []
  }
 ],
 "metadata": {
  "kernelspec": {
   "display_name": "Python 3",
   "language": "python",
   "name": "python3"
  },
  "language_info": {
   "codemirror_mode": {
    "name": "ipython",
    "version": 3
   },
   "file_extension": ".py",
   "mimetype": "text/x-python",
   "name": "python",
   "nbconvert_exporter": "python",
   "pygments_lexer": "ipython3",
   "version": "3.7.0"
  }
 },
 "nbformat": 4,
 "nbformat_minor": 2
}
